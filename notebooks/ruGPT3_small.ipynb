{
  "nbformat": 4,
  "nbformat_minor": 0,
  "metadata": {
    "colab": {
      "provenance": [],
      "include_colab_link": true
    },
    "kernelspec": {
      "name": "python3",
      "display_name": "Python 3"
    },
    "language_info": {
      "name": "python"
    },
    "accelerator": "GPU",
    "gpuClass": "standard"
  },
  "cells": [
    {
      "cell_type": "markdown",
      "metadata": {
        "id": "view-in-github",
        "colab_type": "text"
      },
      "source": [
        "<a href=\"https://colab.research.google.com/github/blindsphynx/Diploma/blob/main/ruGPT3_small.ipynb\" target=\"_parent\"><img src=\"https://colab.research.google.com/assets/colab-badge.svg\" alt=\"Open In Colab\"/></a>"
      ]
    },
    {
      "cell_type": "markdown",
      "source": [
        "# Установка зависимостей"
      ],
      "metadata": {
        "id": "yn3NsifQ_eCU"
      }
    },
    {
      "cell_type": "code",
      "source": [
        "from google.colab import drive\n",
        "drive.mount('/content/drive')"
      ],
      "metadata": {
        "id": "cjU0ZOSJTx_I"
      },
      "execution_count": null,
      "outputs": []
    },
    {
      "cell_type": "code",
      "source": [
        "!pip install transformers"
      ],
      "metadata": {
        "id": "DO-voL2Uf5h7"
      },
      "execution_count": null,
      "outputs": []
    },
    {
      "cell_type": "code",
      "source": [
        "!pip install datasets"
      ],
      "metadata": {
        "id": "tTkhz2stgeOe"
      },
      "execution_count": null,
      "outputs": []
    },
    {
      "cell_type": "code",
      "source": [
        "!pip install evaluate"
      ],
      "metadata": {
        "id": "5vvTJ6rigmoF"
      },
      "execution_count": null,
      "outputs": []
    },
    {
      "cell_type": "code",
      "source": [
        "# репозиторий Сбера, который содержит модель и скрипт токенизации\n",
        "!git clone  https://github.com/sberbank-ai/ru-gpts"
      ],
      "metadata": {
        "id": "tf2AUCAP0k2t"
      },
      "execution_count": null,
      "outputs": []
    },
    {
      "cell_type": "markdown",
      "source": [
        "# Файн-тьюнинг"
      ],
      "metadata": {
        "id": "QRs_3yUtaEvc"
      }
    },
    {
      "cell_type": "code",
      "source": [
        "!wget https://raw.githubusercontent.com/huggingface/transformers/main/examples/pytorch/language-modeling/run_clm.py"
      ],
      "metadata": {
        "id": "mHj5REDDgYtz"
      },
      "execution_count": null,
      "outputs": []
    },
    {
      "cell_type": "code",
      "source": [
        "!pip install --upgrade accelerate"
      ],
      "metadata": {
        "id": "gViiWkGty79N"
      },
      "execution_count": null,
      "outputs": []
    },
    {
      "cell_type": "code",
      "source": [
        "# запустить ячейку при ошибке фрагментации памяти (при необходимости поменять значение max_split_size_mb)\n",
        "import os\n",
        "os.environ[\"PYTORCH_CUDA_ALLOC_CONF\"] = \"max_split_size_mb:512\""
      ],
      "metadata": {
        "id": "82W2YDWgbZ6G"
      },
      "execution_count": null,
      "outputs": []
    },
    {
      "cell_type": "code",
      "source": [
        "files = [\"train_gpt.txt\", \"valid_gpt.txt\"]\n",
        "\n",
        "for f in files:\n",
        "  file = open(f, \"r\", encoding=\"utf-8\")\n",
        "  text = file.read()\n",
        "  res = \"\"\n",
        "  res += text.encode(encoding=\"utf-8\", errors=\"ignore\")\n",
        "  file.close()\n",
        "\n",
        "  newfile = open(f, \"w\", encoding=\"utf-8\")\n",
        "  newfile.write(res)\n",
        "  newfile.close()"
      ],
      "metadata": {
        "id": "g7HZBM1HcD25"
      },
      "execution_count": null,
      "outputs": []
    },
    {
      "cell_type": "code",
      "source": [
        "!python run_clm.py \\\n",
        "    --model_name_or_path sberbank-ai/rugpt3small_based_on_gpt2 \\\n",
        "    --train_file train_gpt.txt \\\n",
        "    --validation_file valid_gpt.txt \\\n",
        "    --num_train_epochs=13.0 \\\n",
        "    --per_device_train_batch_size 16 \\\n",
        "    --per_device_eval_batch_size 16 \\\n",
        "    --block_size 2048 \\\n",
        "    --dataset_config_name plain_text \\\n",
        "    --do_train \\\n",
        "    --do_eval \\\n",
        "    --output_dir drive/MyDrive/ruGPT3_new \\\n",
        "    --overwrite_output_dir"
      ],
      "metadata": {
        "id": "rhstSotd0UrE"
      },
      "execution_count": null,
      "outputs": []
    },
    {
      "cell_type": "code",
      "source": [
        "import numpy as np\n",
        "import torch\n",
        "np.random.seed(42)\n",
        "torch.manual_seed(42)"
      ],
      "metadata": {
        "id": "9feqfwrp0SYi"
      },
      "execution_count": null,
      "outputs": []
    },
    {
      "cell_type": "markdown",
      "source": [
        "# Генерация"
      ],
      "metadata": {
        "id": "25MBrK5b6-dz"
      }
    },
    {
      "cell_type": "code",
      "source": [
        "from transformers import GPT2LMHeadModel, GPT2Tokenizer\n",
        "\n",
        "def load_tokenizer_and_model(model_name_or_path):\n",
        "  return GPT2Tokenizer.from_pretrained(model_name_or_path), GPT2LMHeadModel.from_pretrained(model_name_or_path).cuda()"
      ],
      "metadata": {
        "id": "cCUyBdzh5Yc6"
      },
      "execution_count": 4,
      "outputs": []
    },
    {
      "cell_type": "code",
      "source": [
        "def generate(\n",
        "    model, tok, text,\n",
        "    do_sample=True, max_length=50, min_length=5, repetition_penalty=5.0,\n",
        "    top_k=5, top_p=0.95, temperature=1,\n",
        "    num_beams=None,\n",
        "    no_repeat_ngram_size=3\n",
        "    ):\n",
        "  input_ids = tok.encode(text, return_tensors=\"pt\").cuda()\n",
        "  out = model.generate(\n",
        "      input_ids.cuda(),\n",
        "      min_length=min_length,\n",
        "      max_length=max_length,\n",
        "      repetition_penalty=repetition_penalty,\n",
        "      do_sample=do_sample,\n",
        "      top_k=top_k, top_p=top_p, temperature=temperature,\n",
        "      num_beams=num_beams, no_repeat_ngram_size=no_repeat_ngram_size\n",
        "      )\n",
        "  return list(map(tok.decode, out))"
      ],
      "metadata": {
        "id": "Wma2IarA5dJt"
      },
      "execution_count": 5,
      "outputs": []
    },
    {
      "cell_type": "code",
      "source": [
        "tok, model = load_tokenizer_and_model(\"drive/MyDrive/ruGPT-3_small_conversational/\")\n",
        "query = input()\n",
        "text = f\"Вопрос: {query} Ответ: \"\n",
        "generated = generate(model, tok, text, num_beams=10) \n",
        "\n",
        "response = generated[0].split(\"Ответ:\")[1].split(\"\\n\")[0]\n",
        "print(\"Я: \", query)\n",
        "print(\"Модель: \", response)"
      ],
      "metadata": {
        "id": "Ltmkogrm5fR7"
      },
      "execution_count": null,
      "outputs": []
    }
  ]
}
