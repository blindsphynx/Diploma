{
  "nbformat": 4,
  "nbformat_minor": 0,
  "metadata": {
    "colab": {
      "provenance": [],
      "gpuType": "T4",
      "include_colab_link": true
    },
    "kernelspec": {
      "display_name": "Python 3",
      "name": "python3"
    },
    "language_info": {
      "name": "python"
    },
    "accelerator": "GPU",
    "gpuClass": "standard"
  },
  "cells": [
    {
      "cell_type": "markdown",
      "metadata": {
        "id": "view-in-github",
        "colab_type": "text"
      },
      "source": [
        "<a href=\"https://colab.research.google.com/github/blindsphynx/Diploma/blob/main/ruT5_base_conversational.ipynb\" target=\"_parent\"><img src=\"https://colab.research.google.com/assets/colab-badge.svg\" alt=\"Open In Colab\"/></a>"
      ]
    },
    {
      "cell_type": "markdown",
      "source": [
        "# Подготовка среды выполнения"
      ],
      "metadata": {
        "id": "nZT4z4RH-3jW"
      }
    },
    {
      "cell_type": "code",
      "metadata": {
        "id": "kxkviE0Rmkdr"
      },
      "source": [
        "!pip install transformers[sentencepiece]"
      ],
      "execution_count": null,
      "outputs": []
    },
    {
      "cell_type": "code",
      "source": [
        "from google.colab import drive\n",
        "drive.mount('/content/drive')"
      ],
      "metadata": {
        "id": "pnoT6KkOzZ3l"
      },
      "execution_count": null,
      "outputs": []
    },
    {
      "cell_type": "markdown",
      "metadata": {
        "id": "iudTw4Z_sqLU"
      },
      "source": [
        "\n",
        "[T5 paper](https://arxiv.org/abs/1910.10683)\n",
        "\n",
        " - Base: [HF Model API](https://huggingface.co/sberbank-ai/ruT5-base)\n",
        "\n",
        " [Model parameters](https://huggingface.co/transformers/model_doc/t5.html)"
      ]
    },
    {
      "cell_type": "code",
      "source": [
        "import pandas as pd\n",
        "import numpy as np\n",
        "import torch\n",
        "from transformers import T5ForConditionalGeneration, T5Tokenizer\n",
        "import random\n",
        "from tqdm.auto import tqdm, trange\n",
        "import os\n",
        "from sklearn.model_selection import train_test_split\n",
        "import torch"
      ],
      "metadata": {
        "id": "jXZCHrePyUqq"
      },
      "execution_count": null,
      "outputs": []
    },
    {
      "cell_type": "markdown",
      "source": [],
      "metadata": {
        "id": "t8QC4W1g-rnf"
      }
    },
    {
      "cell_type": "code",
      "source": [
        "from transformers import T5ForConditionalGeneration, T5Tokenizer\n",
        "\n",
        "# raw_model = 'ai-forever/ruT5-base' \n",
        "pre_trained = 'drive/MyDrive/ruT5-base_conversational'\n",
        "model = T5ForConditionalGeneration.from_pretrained(pre_trained) #.cuda();\n",
        "tokenizer = T5Tokenizer.from_pretrained(pre_trained)\n",
        "\n",
        "def generate(text, **kwargs):\n",
        "    inputs = tokenizer(text, return_tensors='pt')\n",
        "    with torch.no_grad():\n",
        "        hypotheses = model.generate(**inputs, num_beams=5, **kwargs, max_new_tokens=150)\n",
        "    return tokenizer.decode(hypotheses[0], skip_special_tokens=True)"
      ],
      "metadata": {
        "id": "8F8nz8SgyU_I"
      },
      "execution_count": null,
      "outputs": []
    },
    {
      "cell_type": "markdown",
      "source": [
        "# Подготовка датасета для дообучения"
      ],
      "metadata": {
        "id": "hKH4mlCb1zXm"
      }
    },
    {
      "cell_type": "code",
      "source": [
        "df = pd.read_csv('drive/MyDrive/dataset.csv', sep='|', encoding=\"utf-8\")\n",
        "pd.options.display.max_colwidth = 500"
      ],
      "metadata": {
        "id": "2lMeZ_vI1mfV"
      },
      "execution_count": null,
      "outputs": []
    },
    {
      "cell_type": "code",
      "source": [
        "df_train, df_test = train_test_split(df.dropna(), test_size=0.5, random_state=1)\n",
        "pairs = df_train[['q', 'a']].values.tolist()"
      ],
      "metadata": {
        "id": "G5RHzBIW1m2l"
      },
      "execution_count": null,
      "outputs": []
    },
    {
      "cell_type": "markdown",
      "source": [
        "# Файн-тьюнинг\n"
      ],
      "metadata": {
        "id": "6ejGZDtY16an"
      }
    },
    {
      "cell_type": "code",
      "source": [
        "optimizer = torch.optim.Adam(model.parameters(), lr=1e-5)"
      ],
      "metadata": {
        "id": "0Pb8WQ_J2S1A"
      },
      "execution_count": null,
      "outputs": []
    },
    {
      "cell_type": "code",
      "metadata": {
        "id": "th1-XEwjOcTf"
      },
      "source": [
        "batch_size = 16  \n",
        "report_steps = 1500  \n",
        "epochs = 10  "
      ],
      "execution_count": null,
      "outputs": []
    },
    {
      "cell_type": "code",
      "source": [
        "new_model_name = 'drive/MyDrive/ruT5-base_conversational'   \n",
        "\n",
        "model.train()\n",
        "losses = []\n",
        "for epoch in range(epochs):\n",
        "    print('EPOCH', epoch)\n",
        "    random.shuffle(pairs)\n",
        "    for i in trange(0, int(len(pairs) / batch_size)):\n",
        "        batch = pairs[i * batch_size: (i + 1) * batch_size]\n",
        "        x = tokenizer([p[0] for p in batch], return_tensors='pt', padding=True).to(model.device)\n",
        "        y = tokenizer([p[1] for p in batch], return_tensors='pt', padding=True).to(model.device)\n",
        "        y.input_ids[y.input_ids == 0] = -100\n",
        "        loss = model(\n",
        "            input_ids=x.input_ids,\n",
        "            attention_mask=x.attention_mask,\n",
        "            labels=y.input_ids,\n",
        "            decoder_attention_mask=y.attention_mask,\n",
        "            return_dict=True\n",
        "        ).loss\n",
        "        loss.backward()\n",
        "        optimizer.step()\n",
        "        optimizer.zero_grad()\n",
        "        losses.append(loss.item())\n",
        "        if i % report_steps == 0:\n",
        "            print('step', i, 'loss', np.mean(losses[-report_steps:]))\n",
        "            model.save_pretrained(new_model_name)\n",
        "    tokenizer.save_pretrained(new_model_name)  "
      ],
      "metadata": {
        "id": "1v0Q_dLgzPEk"
      },
      "execution_count": null,
      "outputs": []
    },
    {
      "cell_type": "markdown",
      "source": [
        "# Генерация"
      ],
      "metadata": {
        "id": "CuCq2vQw2BpB"
      }
    },
    {
      "cell_type": "code",
      "source": [
        "model.eval()\n",
        "\n",
        "def answer(x, **kwargs):\n",
        "    inputs = tokenizer(x, return_tensors='pt').to(model.device) \n",
        "    with torch.no_grad():\n",
        "        hypotheses = model.generate(**inputs, **kwargs, max_new_tokens=200)\n",
        "    return tokenizer.decode(hypotheses[0], skip_special_tokens=True)"
      ],
      "metadata": {
        "id": "v3aS-HnkzP3v"
      },
      "execution_count": null,
      "outputs": []
    },
    {
      "cell_type": "code",
      "source": [
        "query = input()\n",
        "print(\"You: \", query)\n",
        "print(\"ruT5: \", answer(query, do_sample=True, top_p=0.9))"
      ],
      "metadata": {
        "id": "dyf3sk7ozTP9"
      },
      "execution_count": null,
      "outputs": []
    }
  ]
}